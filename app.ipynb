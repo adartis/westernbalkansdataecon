{
 "cells": [
  {
   "cell_type": "code",
   "execution_count": null,
   "metadata": {},
   "outputs": [
    {
     "data": {
      "application/vnd.jupyter.widget-view+json": {
       "model_id": "f4408724119c4fa5b87797bfcc5e795e",
       "version_major": 2,
       "version_minor": 0
      },
      "text/plain": [
       "Dropdown(description='Indicator:', options=('CPI score', 'Foreign direct investment, net inflows (% of GDP)', …"
      ]
     },
     "metadata": {},
     "output_type": "display_data"
    },
    {
     "data": {
      "application/vnd.jupyter.widget-view+json": {
       "model_id": "4eebaf669a3448cd92b5f10c4128f428",
       "version_major": 2,
       "version_minor": 0
      },
      "text/plain": [
       "Dropdown(description='Start Year:', options=(np.float64(2012.0), np.float64(2013.0), np.float64(2014.0), np.fl…"
      ]
     },
     "metadata": {},
     "output_type": "display_data"
    },
    {
     "data": {
      "application/vnd.jupyter.widget-view+json": {
       "model_id": "b9a68a5230c44423b6e7bfedbc64412a",
       "version_major": 2,
       "version_minor": 0
      },
      "text/plain": [
       "Dropdown(description='End Year:', options=(np.float64(2012.0), np.float64(2013.0), np.float64(2014.0), np.floa…"
      ]
     },
     "metadata": {},
     "output_type": "display_data"
    },
    {
     "data": {
      "application/vnd.jupyter.widget-view+json": {
       "model_id": "23fa5dc873a4494ebd1165a49fc42fbb",
       "version_major": 2,
       "version_minor": 0
      },
      "text/plain": [
       "Output()"
      ]
     },
     "metadata": {},
     "output_type": "display_data"
    }
   ],
   "source": [
    "import pandas as pd\n",
    "import matplotlib.pyplot as plt\n",
    "import ipywidgets as widgets\n",
    "from IPython.display import display\n",
    "\n",
    "# Load the data\n",
    "df = pd.read_csv('dataOnWBalkansForGDupload.csv')\n",
    "\n",
    "# Define a fixed mapping from country to colour\n",
    "country_colors = {\n",
    "    'Serbia': 'red',\n",
    "    'Bosnia Herzegovina': 'blue',\n",
    "    'Albania': 'green',\n",
    "    'North Macedona': 'orange',\n",
    "    'Croatia': 'purple',\n",
    "    'Slovenia': 'brown',\n",
    "    'Bulgaria': 'pink',\n",
    "    'Montenegro': 'grey',\n",
    "    'Eurozone': 'black'\n",
    "}\n",
    "\n",
    "# Ensure indicator values are integers and sort them alphabetically\n",
    "df['indicator'] = df['indicator'].astype(str)\n",
    "indicators = sorted(df['indicator'].unique())\n",
    "\n",
    "# Create the indicator dropdown widget\n",
    "indicator_dropdown = widgets.Dropdown(\n",
    "    options=indicators,\n",
    "    description='Indicator:'\n",
    ")\n",
    "\n",
    "# Initialise the year dropdowns based on the first indicator's available years\n",
    "initial_years = sorted(df[df['indicator'] == indicators[0]]['year'].unique())\n",
    "start_year_dropdown = widgets.Dropdown(\n",
    "    options=initial_years,\n",
    "    description='Start Year:'\n",
    ")\n",
    "end_year_dropdown = widgets.Dropdown(\n",
    "    options=initial_years,\n",
    "    description='End Year:'\n",
    ")\n",
    "\n",
    "# Update the start and end year dropdowns when the indicator changes\n",
    "def update_year_options(*args):\n",
    "    current_indicator = indicator_dropdown.value\n",
    "    years = sorted(df[df['indicator'] == current_indicator]['year'].unique())\n",
    "    start_year_dropdown.options = years\n",
    "    end_year_dropdown.options = years\n",
    "    if years:\n",
    "        start_year_dropdown.value = years[0]\n",
    "        end_year_dropdown.value = years[-1]\n",
    "\n",
    "indicator_dropdown.observe(update_year_options, names='value')\n",
    "\n",
    "# Function to plot the time series with consistent colours per country\n",
    "def plot_time_series(indicator, start_year, end_year):\n",
    "    filtered = df[df['indicator'] == indicator]\n",
    "    filtered = filtered[(filtered['year'] >= start_year) & (filtered['year'] <= end_year)]\n",
    "    plt.figure(figsize=(10, 6))\n",
    "    for country in filtered['country'].unique():\n",
    "        country_data = filtered[filtered['country'] == country]\n",
    "        color = country_colors.get(country, None)  # Uses default if country not in mapping\n",
    "        plt.plot(country_data['year'], country_data['value'], label=country, color=color)\n",
    "    plt.xlabel('Year')\n",
    "    plt.ylabel('Value')\n",
    "    plt.title(f'Time Series for {indicator} from {start_year} to {end_year}')\n",
    "    plt.legend(loc='best')\n",
    "    plt.show()\n",
    "\n",
    "# Create interactive output linking the widgets with the plotting function\n",
    "out = widgets.interactive_output(plot_time_series, {\n",
    "    'indicator': indicator_dropdown,\n",
    "    'start_year': start_year_dropdown,\n",
    "    'end_year': end_year_dropdown\n",
    "})\n",
    "\n",
    "# Display the widgets and output\n",
    "display(indicator_dropdown, start_year_dropdown, end_year_dropdown, out)\n"
   ]
  }
 ],
 "metadata": {
  "language_info": {
   "name": "python"
  }
 },
 "nbformat": 4,
 "nbformat_minor": 2
}
